{
 "cells": [
  {
   "cell_type": "code",
   "execution_count": 1,
   "id": "cc01d24b",
   "metadata": {},
   "outputs": [
    {
     "name": "stdout",
     "output_type": "stream",
     "text": [
      "Your name isqwer\n"
     ]
    },
    {
     "data": {
      "text/plain": [
       "<__main__.widgetsdemo at 0x7feaf871cfa0>"
      ]
     },
     "execution_count": 1,
     "metadata": {},
     "output_type": "execute_result"
    }
   ],
   "source": [
    "from tkinter import *\n",
    "class widgetsdemo:\n",
    "    \n",
    "    def __init__(self):\n",
    "        \n",
    "        window = Tk()\n",
    "        window.title(\"Widgets Demo\")\n",
    "        \n",
    "        frame1=Frame(window)\n",
    "        frame1.pack()\n",
    "        self.v1= IntVar()\n",
    "        cbtbold=Checkbutton(frame1,text=\"Bold\",variable= self.v1, command=self.processcheckbutton)\n",
    "        self.v2=IntVar()\n",
    "        rbred=Radiobutton(frame1,text=\"Red\",bg=\"red\",variable=self.v2,value=1,command=self.processradiobutton)\n",
    "        rbyellow=Radiobutton(frame1,text=\"Yellow\",bg=\"yellow\",variable=self.v2,value=2,command=self.processradiobutton)\n",
    "        cbtbold.grid(row=1,column=1)\n",
    "        rbred.grid(row=1,column=2)\n",
    "        rbyellow.grid(row=1,column=3)\n",
    "        \n",
    "        frame2=Frame(window)\n",
    "        frame2.pack()\n",
    "        label=Label(frame2,text=\"Enter your name: \")\n",
    "        self.name=StringVar()\n",
    "        entryname=Entry(frame2,textvariable=self.name)\n",
    "        btgetname=Button(frame2,text=\"Get Name\",command=self.processbutton)\n",
    "        message=Message(frame2,text=\"It is widgets demo\")\n",
    "        label.grid(row=1,column=1)\n",
    "        entryname.grid(row=1,column=2)\n",
    "        btgetname.grid(row=1,column=3)\n",
    "        message.grid(row=1,column=4)\n",
    "        \n",
    "        text=Text(window)\n",
    "        text.pack()\n",
    "        text.insert(END,\"Tip\\nThe best way to learn Tkinter is to read\")\n",
    "        text.insert(END,\"these carefully designed examples and use them\")\n",
    "        text.insert(END,\"to create your applications.\")\n",
    "        window.mainloop()\n",
    "    def processcheckbutton(self):\n",
    "        print(\"check button is \"+(\" checked\" if self.v1.get()==1 else \"unchecked\"))\n",
    "    def processradiobutton(self):\n",
    "        print((\"Red\" if self.v2.get()==1 else \"Yellow\")+ \" is selected\")\n",
    "    def processbutton(self):\n",
    "        print(\"Your name is\"+self.name.get())\n",
    "widgetsdemo()\n"
   ]
  },
  {
   "cell_type": "code",
   "execution_count": null,
   "id": "1d388b7e",
   "metadata": {},
   "outputs": [],
   "source": []
  }
 ],
 "metadata": {
  "kernelspec": {
   "display_name": "Python 3",
   "language": "python",
   "name": "python3"
  },
  "language_info": {
   "codemirror_mode": {
    "name": "ipython",
    "version": 3
   },
   "file_extension": ".py",
   "mimetype": "text/x-python",
   "name": "python",
   "nbconvert_exporter": "python",
   "pygments_lexer": "ipython3",
   "version": "3.8.8"
  }
 },
 "nbformat": 4,
 "nbformat_minor": 5
}
