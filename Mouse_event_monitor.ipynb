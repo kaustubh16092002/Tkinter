{
 "cells": [
  {
   "cell_type": "code",
   "execution_count": 2,
   "id": "c0b4562d",
   "metadata": {},
   "outputs": [
    {
     "name": "stdout",
     "output_type": "stream",
     "text": [
      "keysym? ??\n",
      "char? ??\n",
      "keycode ??\n",
      "keysym? ??\n",
      "char? ??\n",
      "keycode ??\n",
      "keysym? ??\n",
      "char? ??\n",
      "keycode ??\n",
      "keysym? ??\n",
      "char? ??\n",
      "keycode ??\n",
      "keysym? ??\n",
      "char? ??\n",
      "keycode ??\n"
     ]
    },
    {
     "data": {
      "text/plain": [
       "<__main__.mousekeyeventdemo at 0x7feaa0724190>"
      ]
     },
     "execution_count": 2,
     "metadata": {},
     "output_type": "execute_result"
    }
   ],
   "source": [
    "from tkinter import *\n",
    "class mousekeyeventdemo:\n",
    "    \n",
    "    def __init__(self):\n",
    "        window=Tk()\n",
    "        window.title(\"Event Demo\")\n",
    "        canvas=Canvas(window,bg=\"white\",width=200,height=100)\n",
    "        canvas.pack()\n",
    "        canvas.bind(\"<Button-1>\",self.processkeyevent)\n",
    "        canvas.focus_set()\n",
    "\n",
    "        window.mainloop()\n",
    "    def processmouseevent(self,event):\n",
    "        print(\"clicked at\",event.x,event.y)\n",
    "        print(\"Position in the screen\",event.x_root,event.y_root)\n",
    "        print(\"Which button is clicked? \",event.num)\n",
    "    def processkeyevent(self,event):\n",
    "        print(\"keysym?\",event.keysym)\n",
    "        print(\"char?\",event.char)\n",
    "        print(\"keycode\",event.keycode)\n",
    "mousekeyeventdemo()\n"
   ]
  },
  {
   "cell_type": "code",
   "execution_count": null,
   "id": "300c62e6",
   "metadata": {},
   "outputs": [],
   "source": []
  }
 ],
 "metadata": {
  "kernelspec": {
   "display_name": "Python 3",
   "language": "python",
   "name": "python3"
  },
  "language_info": {
   "codemirror_mode": {
    "name": "ipython",
    "version": 3
   },
   "file_extension": ".py",
   "mimetype": "text/x-python",
   "name": "python",
   "nbconvert_exporter": "python",
   "pygments_lexer": "ipython3",
   "version": "3.8.8"
  }
 },
 "nbformat": 4,
 "nbformat_minor": 5
}
