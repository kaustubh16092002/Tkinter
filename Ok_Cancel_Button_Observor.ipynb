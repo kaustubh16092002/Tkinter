{
 "cells": [
  {
   "cell_type": "code",
   "execution_count": 1,
   "id": "a7642fa9",
   "metadata": {},
   "outputs": [
    {
     "name": "stdout",
     "output_type": "stream",
     "text": [
      "OK button is clicked\n",
      "Cancel button is clicked\n"
     ]
    }
   ],
   "source": [
    "from tkinter import *\n",
    "\n",
    "def processok():\n",
    "    print(\"OK button is clicked\")\n",
    "def processcancel():\n",
    "    print(\"Cancel button is clicked\")\n",
    "window=Tk()\n",
    "btok=Button(window,text=\"Ok\",fg=\"red\",command=processok)\n",
    "btcancel=Button(window,text=\"Cancel\",fg=\"orange\",command=processcancel)\n",
    "btok.pack()\n",
    "btcancel.pack()\n",
    "\n",
    "window.mainloop()"
   ]
  },
  {
   "cell_type": "code",
   "execution_count": null,
   "id": "8482bc78",
   "metadata": {},
   "outputs": [],
   "source": []
  }
 ],
 "metadata": {
  "kernelspec": {
   "display_name": "Python 3",
   "language": "python",
   "name": "python3"
  },
  "language_info": {
   "codemirror_mode": {
    "name": "ipython",
    "version": 3
   },
   "file_extension": ".py",
   "mimetype": "text/x-python",
   "name": "python",
   "nbconvert_exporter": "python",
   "pygments_lexer": "ipython3",
   "version": "3.8.8"
  }
 },
 "nbformat": 4,
 "nbformat_minor": 5
}
