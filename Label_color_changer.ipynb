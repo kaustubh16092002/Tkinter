{
 "cells": [
  {
   "cell_type": "code",
   "execution_count": 1,
   "id": "46f1e353",
   "metadata": {},
   "outputs": [
    {
     "data": {
      "text/plain": [
       "<__main__.changelabeldemo at 0x7fa838f01910>"
      ]
     },
     "execution_count": 1,
     "metadata": {},
     "output_type": "execute_result"
    }
   ],
   "source": [
    "from tkinter import *\n",
    "class changelabeldemo:\n",
    "    def __init__(self):\n",
    "        window=Tk()\n",
    "        window.title(\"Change label demo\")\n",
    "        frame1=Frame(window)\n",
    "        frame1.pack()\n",
    "        self.lbl=Label(frame1,text=\"Programming is fun\")\n",
    "        self.lbl.pack()\n",
    "        \n",
    "        frame2=Frame(window)\n",
    "        frame2.pack()\n",
    "        label=Label(frame2,text=\"Enter text: \")\n",
    "        self.msg = StringVar()\n",
    "        entry=Entry(frame2,textvariable=self.msg)\n",
    "        btchangetext=Button(frame2,text=\"Change text\", command=self.processbutton)\n",
    "        self.v1=StringVar()\n",
    "        rbyellow=Radiobutton(frame2,text=\"Yellow\",bg=\"yellow\",variable=self.v1, value='Y' , command=self.processradiobutton)\n",
    "        rbred=Radiobutton(frame2,text=\"Red\",bg=\"red\",variable=self.v1,value=\"R\",command=self.processradiobutton)\n",
    "        label.grid(row=1,column=1)\n",
    "        entry.grid(row=1,column=2)\n",
    "        btchangetext.grid(row=1,column=3)\n",
    "        rbred.grid(row=1,column=4)\n",
    "        rbyellow.grid(row=1,column=5)\n",
    "        \n",
    "        window.mainloop()\n",
    "    def processradiobutton(self):\n",
    "        if self.v1.get()==\"Y\":\n",
    "            self.lbl[\"fg\"]=\"yellow\"\n",
    "        elif self.v1.get()==\"R\":\n",
    "            self.lbl[\"fg\"]=\"red\"\n",
    "\n",
    "    def processbutton(self):\n",
    "        self.lbl[\"text\"]=self.msg.get()\n",
    "changelabeldemo()\n"
   ]
  },
  {
   "cell_type": "code",
   "execution_count": null,
   "id": "0bc36788",
   "metadata": {},
   "outputs": [],
   "source": []
  }
 ],
 "metadata": {
  "kernelspec": {
   "display_name": "Python 3",
   "language": "python",
   "name": "python3"
  },
  "language_info": {
   "codemirror_mode": {
    "name": "ipython",
    "version": 3
   },
   "file_extension": ".py",
   "mimetype": "text/x-python",
   "name": "python",
   "nbconvert_exporter": "python",
   "pygments_lexer": "ipython3",
   "version": "3.8.8"
  }
 },
 "nbformat": 4,
 "nbformat_minor": 5
}
