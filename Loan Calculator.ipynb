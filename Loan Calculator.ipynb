{
 "cells": [
  {
   "cell_type": "code",
   "execution_count": 1,
   "id": "25b45386",
   "metadata": {},
   "outputs": [
    {
     "data": {
      "text/plain": [
       "<__main__.loancalculator at 0x7fce88b76ca0>"
      ]
     },
     "execution_count": 1,
     "metadata": {},
     "output_type": "execute_result"
    }
   ],
   "source": [
    "from tkinter import *\n",
    "class loancalculator:\n",
    "    def __init__(self):\n",
    "        window=Tk()\n",
    "        window.title(\"Loan calculator\")\n",
    "        Label(window,text=\"Annual Interest Rate\").grid(row=1,column=1,sticky=W)\n",
    "        Label(window,text=\"Number of years\").grid(row=2,column=1,sticky=W)\n",
    "        Label(window,text=\"Loan Amount\").grid(row=3,column=1,sticky=W)\n",
    "        Label(window,text=\"Monthly payment\").grid(row=4,column=1,sticky=W)\n",
    "        Label(window,text=\"Total payment\").grid(row=5,column=1,sticky=W)\n",
    "        self.annualinterestratevar=StringVar()\n",
    "        Entry(window,textvariable=self.annualinterestratevar,justify=RIGHT).grid(row=1,column=2)\n",
    "        self.numberofyearsvar=StringVar()\n",
    "        Entry(window,textvariable=self.numberofyearsvar,justify=RIGHT).grid(row=2,column=2)\n",
    "        self.loanamountvar=StringVar()\n",
    "        Entry(window,textvariable=self.loanamountvar,justify=RIGHT).grid(row=3,column=2)\n",
    "        self.monthlypaymentvar=StringVar()\n",
    "        lblmonthlypayment=Label(window,textvariable=self.monthlypaymentvar).grid(row=4,column=2,sticky=E)\n",
    "        self.totalpaymentvar=StringVar()\n",
    "        lbltotalpayment=Label(window,textvariable=self.totalpaymentvar).grid(row=5,column=2,sticky=E)\n",
    "        btcomputerpayment=Button(window,text=\"Compute Payment\",command=self.computepayment).grid(row=6,column=2,sticky=E)\n",
    "        window.mainloop()\n",
    "    def computepayment(self):\n",
    "        monthlypayment=self.getmonthlypayment(float(self.loanamountvar.get()),float(self.annualinterestratevar.get())/1200,int(self.numberofyearsvar.get()))\n",
    "        self.monthlypaymentvar.set(format(monthlypayment,\"10.2f\"))\n",
    "        totalpayment=float(self.monthlypaymentvar.get())*12*int(self.numberofyearsvar.get())\n",
    "        self.totalpaymentvar.set(format(totalpayment,\"10.2f\"))\n",
    "    def getmonthlypayment(self,loanamount,monthlyinterestrate,numberofyears):\n",
    "        monthlypayment=loanamount*monthlyinterestrate/(1-1/(1+monthlyinterestrate)**(numberofyears*12))\n",
    "        return monthlypayment;\n",
    "loancalculator()\n"
   ]
  },
  {
   "cell_type": "code",
   "execution_count": null,
   "id": "ba2c7499",
   "metadata": {},
   "outputs": [],
   "source": []
  }
 ],
 "metadata": {
  "kernelspec": {
   "display_name": "Python 3",
   "language": "python",
   "name": "python3"
  },
  "language_info": {
   "codemirror_mode": {
    "name": "ipython",
    "version": 3
   },
   "file_extension": ".py",
   "mimetype": "text/x-python",
   "name": "python",
   "nbconvert_exporter": "python",
   "pygments_lexer": "ipython3",
   "version": "3.8.8"
  }
 },
 "nbformat": 4,
 "nbformat_minor": 5
}
